{
 "cells": [
  {
   "cell_type": "markdown",
   "metadata": {},
   "source": [
    "Since the data is too big too load into memory, we didn't use the pandas to process the whole data,\n",
    "instead, we process them by streaming files through scripts."
   ]
  },
  {
   "cell_type": "code",
   "execution_count": 1,
   "metadata": {
    "collapsed": true
   },
   "outputs": [],
   "source": [
    "dictFeaIndex = {}\n",
    "def preProcess(path):\n",
    "    file = open(path + '.preProcess', 'w')\n",
    "    for index, line in enumerate(open(path)):\n",
    "        if index == 0:\n",
    "            lstHead = line.strip('\\n').split(',')            \n",
    "            for idx, fea in enumerate(lstHead):\n",
    "                dictFeaIndex[fea] = idx\n",
    "            lstHead = lstHead + ['x_100', 'y_100', 'x_1000', 'y_1000', 'timeH']\n",
    "            file.write(','.join(lstHead) + '\\n')\n",
    "            continue\n",
    "        lst = map(float, line.strip('\\n').split(','))\n",
    "        x_100 = int(lst[dictFeaIndex['x']] * 100)\n",
    "        y_100 = int(lst[dictFeaIndex['y']] * 100)\n",
    "        x_1000 = int(lst[dictFeaIndex['x']] * 1000)\n",
    "        y_1000 = int(lst[dictFeaIndex['y']] * 1000)\n",
    "        timeH = int(lst[dictFeaIndex['time']] / 3600) % 24 / 24.000 * 5\n",
    "        lst[dictFeaIndex['row_id']] = int(lst[dictFeaIndex['row_id']])\n",
    "        lst = lst + [x_100, y_100, x_1000, y_1000, timeH]\n",
    "        file.write(','.join(map(str, lst)) + '\\n')\n",
    "    file.close()\n",
    "    \n",
    "preProcess('data/train.csv')"
   ]
  },
  {
   "cell_type": "code",
   "execution_count": 2,
   "metadata": {
    "collapsed": false
   },
   "outputs": [
    {
     "name": "stdout",
     "output_type": "stream",
     "text": [
      "!!!\n"
     ]
    }
   ],
   "source": [
    "import pandas as pd\n",
    "print \"!!!\"\n",
    "path = 'data/train.csv.preProcess'\n",
    "dfAll = pd.read_csv(path)\n",
    "uniqRowID = dfAll.row_id.unique()\n",
    "trainThres = int(len(uniqRowID) * 0.7)\n",
    "dfTrain = dfAll.loc[lambda df: df.row_id <= trainThres, :]\n",
    "dfTest = dfAll.loc[lambda df: df.row_id > trainThres, :]\n",
    "dfTrain.to_csv(path + '.train')\n",
    "dfTest.to_csv(path + '.test')"
   ]
  },
  {
   "cell_type": "code",
   "execution_count": null,
   "metadata": {
    "collapsed": false
   },
   "outputs": [],
   "source": [
    "import pandas as pd\n",
    "from sklearn.neighbors import KDTree\n",
    "\n",
    "def genCandidates(path, topK = 5):\n",
    "    file = open(path + '.cand', 'w')\n",
    "    dfAll = pd.read_csv('data/train.csv.preProcess.train')\n",
    "    tree = KDTree(dfAll[['x', 'y','timeH']])\n",
    "    dictFeaIndex = {}\n",
    "    for index, line in enumerate(open(path)):\n",
    "        if index == 0:\n",
    "            lstHead = line.strip('\\n').split(',')\n",
    "            for idx, fea in enumerate(lstHead):\n",
    "                dictFeaIndex[fea] = idx\n",
    "            lstHead.append('place_id_cand')\n",
    "            file.write(','.join(map(str, lstHead)) + '\\n')\n",
    "            continue\n",
    "        lst = line.strip('\\n').split(',')\n",
    "        lstFea = [lst[dictFeaIndex['x']], lst[dictFeaIndex['y']], lst[dictFeaIndex['timeH']]]\n",
    "        _, lstIndex = tree.query([lstFea], k = topK)\n",
    "        for index in lstIndex:\n",
    "            place_id = list(dfAll.iloc[index].place_id.values)[0]\n",
    "            #print place_id\n",
    "            if place_id != lst[dictFeaIndex['place_id']]:\n",
    "                lst.append(int(place_id))\n",
    "                file.write(','.join(map(str, lst)) + '\\n')\n",
    "    file.close()\n",
    "print '###'    \n",
    "genCandidates('data/train.csv.preProcess.train')"
   ]
  },
  {
   "cell_type": "code",
   "execution_count": null,
   "metadata": {
    "collapsed": true
   },
   "outputs": [],
   "source": []
  }
 ],
 "metadata": {
  "kernelspec": {
   "display_name": "Python 2",
   "language": "python",
   "name": "python2"
  },
  "language_info": {
   "codemirror_mode": {
    "name": "ipython",
    "version": 2
   },
   "file_extension": ".py",
   "mimetype": "text/x-python",
   "name": "python",
   "nbconvert_exporter": "python",
   "pygments_lexer": "ipython2",
   "version": "2.7.6"
  }
 },
 "nbformat": 4,
 "nbformat_minor": 0
}
