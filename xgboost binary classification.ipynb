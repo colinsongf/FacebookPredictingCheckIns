{
 "cells": [
  {
   "cell_type": "markdown",
   "metadata": {},
   "source": [
    "## Multiclass classification to Binary Classification\n",
    "### Training\n",
    "Instead of train a multiclass classifier model which has too many distinct classes, we convert it to a\n",
    "binary classification problem. That is, for each event, we generated the features associated with the \n",
    "place_id(aggregated features), and use {1, 0} labels. To do this we have to solve two problems:\n",
    "  1. Negative samples. We can use KNN to generate negative samples.\n",
    "  2. Features. The features should be related to the place_id, such as aggregated features: #checkin aggregated by (place_id, hour range), (place_id, position ramge) and so on.\n",
    "  \n",
    "### Basic Statistics\n",
    "  1. #Training samples: 29,118,021\n"
   ]
  },
  {
   "cell_type": "code",
   "execution_count": 15,
   "metadata": {
    "collapsed": false
   },
   "outputs": [
    {
     "name": "stdout",
     "output_type": "stream",
     "text": [
      "xMin: 0.000000, xMax: 10.000000, yMin: 0.000000, yMax: 10.000000\n"
     ]
    }
   ],
   "source": [
    "# Statistics\n",
    "import pandas as pd\n",
    "\n",
    "dfTrain = pd.read_csv('data/train.csv')\n",
    "dfTest = pd.read_csv('data/test.csv')\n",
    "\n",
    "xMin = dfTrain.x.min()\n",
    "xMax = dfTrain.x.max()\n",
    "yMin = dfTrain.y.min()\n",
    "yMax = dfTrain.y.max()\n",
    "print \"xMin: %f, xMax: %f, yMin: %f, yMax: %f\" % (xMin, xMax, yMin, xMax)"
   ]
  },
  {
   "cell_type": "code",
   "execution_count": 16,
   "metadata": {
    "collapsed": false
   },
   "outputs": [
    {
     "name": "stdout",
     "output_type": "stream",
     "text": [
      "(29118021, 6)\n"
     ]
    }
   ],
   "source": [
    "print dfTrain.shape"
   ]
  },
  {
   "cell_type": "code",
   "execution_count": 2,
   "metadata": {
    "collapsed": false
   },
   "outputs": [],
   "source": [
    "from sklearn.neighbors import KDTree\n",
    "dfAll = pd.read_csv('data/train.csv.100000')\n",
    "\n",
    "def preProcess(df):\n",
    "    df['x_1000'] = df.apply(lambda x : int(x['x'] * 1000), axis=1) \n",
    "    df['x_100'] = df.apply(lambda x : int(x['x'] * 100), axis=1)\n",
    "    df['y_1000'] = df.apply(lambda x : int(x['y'] * 1000), axis=1) \n",
    "    df['y_100'] = df.apply(lambda x : int(x['y'] * 100), axis=1)\n",
    "    df['timeH'] = df.apply(lambda x: int(x['time'] / 3600) % 24 / 24.000 * 5, axis = 1)\n",
    "    \n",
    "def genCandidates(df, topK = 5):\n",
    "    print 'genCandidates'\n",
    "    \n",
    "    tree = KDTree(dfAll[['x', 'y','timeH']])\n",
    "    _, ind = tree.query(df[['x','y','timeH']], k = topK)\n",
    "    lstDF = []\n",
    "    for i in range(topK):\n",
    "        dfTmp = df.copy()\n",
    "        ind1 = [x[i] for x in ind]\n",
    "        #print ind1\n",
    "        dfTmp['place_id_cand'] = dfAll.iloc[ind1].place_id.values\n",
    "        lstDF.append(dfTmp)\n",
    "    df['place_id_cand'] = df['place_id']\n",
    "    lstDF.append(df)\n",
    "    df = pd.concat(lstDF, ignore_index = True)\n",
    "    print len(df.index)\n",
    "    #df['label'] = df['place_id'] == df['place_id_cand'] ? 1 : 0\n",
    "    df['label'] = df.apply(lambda x : 1 if x['place_id'] == x['place_id_cand'] else 0, axis=1)  \n",
    "    #df[['row_id', 'place_id']].to_csv('submission_time.gz', index = False, compression = 'gzip')\n",
    "    return df"
   ]
  },
  {
   "cell_type": "code",
   "execution_count": 3,
   "metadata": {
    "collapsed": false
   },
   "outputs": [],
   "source": [
    "def genFeatures(df, lstTopK = [5]):\n",
    "    # Depreciated, will not use KNN statis as features since too time consuming\n",
    "    key = ['x', 'y']\n",
    "    treeXY = KDTree(dfAll[key])\n",
    "    for topK in lstTopK:\n",
    "        print 'top%d_xy' % (topK)\n",
    "        _, lstTopKIndex = treeXY.query(df[key], k = topK)\n",
    "        df['top%d_xy' % (topK)] = [[dfAll.iloc[xx].place_id for xx in x].count(df.iloc[index].place_id_cand) for index, x in enumerate(lstTopKIndex)]\n",
    "    key = ['x', 'y', 'timeH']\n",
    "    treeXYTimeH = KDTree(dfAll[key])  \n",
    "    for topK in lstTopK:\n",
    "        print 'top%d_xyTimeH' % (topK)\n",
    "        _, lstTopKIndex = treeXYTimeH.query(df[key], k = topK)\n",
    "        df['top%d_xyTimeH' % (topK)] = [[dfAll.iloc[xx].place_id for xx in x].count(df.iloc[index].place_id_cand) for index, x in enumerate(lstTopKIndex)]\n",
    "    \n",
    "    print [dfAll.iloc[xx].place_id for xx in x]\n",
    "    print df.iloc[index].place_id_cand\n",
    "\n",
    "\n",
    "dictFeaAggKey = {\n",
    "    'xy1000_placeId': ['x_1000', 'y_1000', 'place_id_cand'],\n",
    "    'xy100_placeId': ['x_100', 'y_100', 'place_id_cand'],\n",
    "    'xy1000_placeId_timeH' : ['x_1000', 'y_1000', 'place_id_cand', 'timeH'],\n",
    "    'xy100_placeId_timeH' : ['x_100', 'y_100', 'place_id_cand', 'timeH'],\n",
    "}\n",
    "\n",
    "dictFeaAggDF = {}\n",
    "\n",
    "def genFeaAgg(df):\n",
    "    # The KDTree based feature is too time consuming\n",
    "    df['place_id_cand'] = df['place_id']\n",
    "    for fea in dictFeaAggKey.keys():\n",
    "        keyAgg = dictFeaAggKey[fea]\n",
    "        dfGroup = df.groupby(keyAgg).count().reset_index()\n",
    "        dfGroup[fea] = dfGroup['x']\n",
    "        dfGroup = dfGroup[keyAgg + [fea]]\n",
    "        dictFeaAggDF[fea] = dfGroup\n",
    "\n",
    "def MergeAggFea(df):\n",
    "    dfMerge = df.copy()\n",
    "    for fea in dictFeaAggDF.keys():\n",
    "        dfAgg = dictFeaAggDF[fea]\n",
    "        dfMerge = pd.merge(dfMerge, dfAgg, how = 'left', on = dictFeaAggKey[fea])\n",
    "    return dfMerge"
   ]
  },
  {
   "cell_type": "code",
   "execution_count": 22,
   "metadata": {
    "collapsed": false,
    "scrolled": false
   },
   "outputs": [
    {
     "name": "stdout",
     "output_type": "stream",
     "text": [
      "preProcess\n",
      "dfTrainCan\n",
      "genCandidates\n"
     ]
    },
    {
     "ename": "MemoryError",
     "evalue": "",
     "output_type": "error",
     "traceback": [
      "\u001b[1;31m\u001b[0m",
      "\u001b[1;31mMemoryError\u001b[0mTraceback (most recent call last)",
      "\u001b[1;32m<ipython-input-22-ac5d5120be37>\u001b[0m in \u001b[0;36m<module>\u001b[1;34m()\u001b[0m\n\u001b[0;32m     10\u001b[0m \u001b[0mdfTest\u001b[0m \u001b[1;33m=\u001b[0m \u001b[0mdfAll\u001b[0m\u001b[1;33m.\u001b[0m\u001b[0mloc\u001b[0m\u001b[1;33m[\u001b[0m\u001b[1;32mlambda\u001b[0m \u001b[0mdf\u001b[0m\u001b[1;33m:\u001b[0m \u001b[0mdf\u001b[0m\u001b[1;33m.\u001b[0m\u001b[0mrow_id\u001b[0m \u001b[1;33m>\u001b[0m \u001b[0mtrainThres\u001b[0m\u001b[1;33m,\u001b[0m \u001b[1;33m:\u001b[0m\u001b[1;33m]\u001b[0m\u001b[1;33m\u001b[0m\u001b[0m\n\u001b[0;32m     11\u001b[0m \u001b[1;32mprint\u001b[0m \u001b[1;34m'dfTrainCan'\u001b[0m\u001b[1;33m\u001b[0m\u001b[0m\n\u001b[1;32m---> 12\u001b[1;33m \u001b[0mdfTrainCan\u001b[0m \u001b[1;33m=\u001b[0m \u001b[0mgenCandidates\u001b[0m\u001b[1;33m(\u001b[0m\u001b[0mdfTrain\u001b[0m\u001b[1;33m)\u001b[0m\u001b[1;33m\u001b[0m\u001b[0m\n\u001b[0m\u001b[0;32m     13\u001b[0m \u001b[0mdfTrainCan\u001b[0m \u001b[1;33m=\u001b[0m \u001b[0mdfTrainCan\u001b[0m\u001b[1;33m.\u001b[0m\u001b[0mdrop_duplicates\u001b[0m\u001b[1;33m(\u001b[0m\u001b[1;33m)\u001b[0m\u001b[1;33m\u001b[0m\u001b[0m\n\u001b[0;32m     14\u001b[0m \u001b[1;32mprint\u001b[0m \u001b[1;34m'dfTestCan'\u001b[0m\u001b[1;33m\u001b[0m\u001b[0m\n",
      "\u001b[1;32m<ipython-input-2-d5ed4efa56f0>\u001b[0m in \u001b[0;36mgenCandidates\u001b[1;34m(df, topK)\u001b[0m\n\u001b[0;32m     19\u001b[0m         \u001b[0mind1\u001b[0m \u001b[1;33m=\u001b[0m \u001b[1;33m[\u001b[0m\u001b[0mx\u001b[0m\u001b[1;33m[\u001b[0m\u001b[0mi\u001b[0m\u001b[1;33m]\u001b[0m \u001b[1;32mfor\u001b[0m \u001b[0mx\u001b[0m \u001b[1;32min\u001b[0m \u001b[0mind\u001b[0m\u001b[1;33m]\u001b[0m\u001b[1;33m\u001b[0m\u001b[0m\n\u001b[0;32m     20\u001b[0m         \u001b[1;31m#print ind1\u001b[0m\u001b[1;33m\u001b[0m\u001b[1;33m\u001b[0m\u001b[0m\n\u001b[1;32m---> 21\u001b[1;33m         \u001b[0mdfTmp\u001b[0m\u001b[1;33m[\u001b[0m\u001b[1;34m'place_id_cand'\u001b[0m\u001b[1;33m]\u001b[0m \u001b[1;33m=\u001b[0m \u001b[0mdfAll\u001b[0m\u001b[1;33m.\u001b[0m\u001b[0miloc\u001b[0m\u001b[1;33m[\u001b[0m\u001b[0mind1\u001b[0m\u001b[1;33m]\u001b[0m\u001b[1;33m.\u001b[0m\u001b[0mplace_id\u001b[0m\u001b[1;33m.\u001b[0m\u001b[0mvalues\u001b[0m\u001b[1;33m\u001b[0m\u001b[0m\n\u001b[0m\u001b[0;32m     22\u001b[0m         \u001b[0mlstDF\u001b[0m\u001b[1;33m.\u001b[0m\u001b[0mappend\u001b[0m\u001b[1;33m(\u001b[0m\u001b[0mdfTmp\u001b[0m\u001b[1;33m)\u001b[0m\u001b[1;33m\u001b[0m\u001b[0m\n\u001b[0;32m     23\u001b[0m     \u001b[0mdf\u001b[0m\u001b[1;33m[\u001b[0m\u001b[1;34m'place_id_cand'\u001b[0m\u001b[1;33m]\u001b[0m \u001b[1;33m=\u001b[0m \u001b[0mdf\u001b[0m\u001b[1;33m[\u001b[0m\u001b[1;34m'place_id'\u001b[0m\u001b[1;33m]\u001b[0m\u001b[1;33m\u001b[0m\u001b[0m\n",
      "\u001b[1;32m/usr/local/lib/python2.7/dist-packages/pandas/core/indexing.pyc\u001b[0m in \u001b[0;36m__getitem__\u001b[1;34m(self, key)\u001b[0m\n\u001b[0;32m   1294\u001b[0m             \u001b[1;32mreturn\u001b[0m \u001b[0mself\u001b[0m\u001b[1;33m.\u001b[0m\u001b[0m_getitem_tuple\u001b[0m\u001b[1;33m(\u001b[0m\u001b[0mkey\u001b[0m\u001b[1;33m)\u001b[0m\u001b[1;33m\u001b[0m\u001b[0m\n\u001b[0;32m   1295\u001b[0m         \u001b[1;32melse\u001b[0m\u001b[1;33m:\u001b[0m\u001b[1;33m\u001b[0m\u001b[0m\n\u001b[1;32m-> 1296\u001b[1;33m             \u001b[1;32mreturn\u001b[0m \u001b[0mself\u001b[0m\u001b[1;33m.\u001b[0m\u001b[0m_getitem_axis\u001b[0m\u001b[1;33m(\u001b[0m\u001b[0mkey\u001b[0m\u001b[1;33m,\u001b[0m \u001b[0maxis\u001b[0m\u001b[1;33m=\u001b[0m\u001b[1;36m0\u001b[0m\u001b[1;33m)\u001b[0m\u001b[1;33m\u001b[0m\u001b[0m\n\u001b[0m\u001b[0;32m   1297\u001b[0m \u001b[1;33m\u001b[0m\u001b[0m\n\u001b[0;32m   1298\u001b[0m     \u001b[1;32mdef\u001b[0m \u001b[0m_getitem_axis\u001b[0m\u001b[1;33m(\u001b[0m\u001b[0mself\u001b[0m\u001b[1;33m,\u001b[0m \u001b[0mkey\u001b[0m\u001b[1;33m,\u001b[0m \u001b[0maxis\u001b[0m\u001b[1;33m=\u001b[0m\u001b[1;36m0\u001b[0m\u001b[1;33m)\u001b[0m\u001b[1;33m:\u001b[0m\u001b[1;33m\u001b[0m\u001b[0m\n",
      "\u001b[1;32m/usr/local/lib/python2.7/dist-packages/pandas/core/indexing.pyc\u001b[0m in \u001b[0;36m_getitem_axis\u001b[1;34m(self, key, axis)\u001b[0m\n\u001b[0;32m   1612\u001b[0m                 \u001b[0mself\u001b[0m\u001b[1;33m.\u001b[0m\u001b[0m_is_valid_integer\u001b[0m\u001b[1;33m(\u001b[0m\u001b[0mkey\u001b[0m\u001b[1;33m,\u001b[0m \u001b[0maxis\u001b[0m\u001b[1;33m)\u001b[0m\u001b[1;33m\u001b[0m\u001b[0m\n\u001b[0;32m   1613\u001b[0m \u001b[1;33m\u001b[0m\u001b[0m\n\u001b[1;32m-> 1614\u001b[1;33m             \u001b[1;32mreturn\u001b[0m \u001b[0mself\u001b[0m\u001b[1;33m.\u001b[0m\u001b[0m_get_loc\u001b[0m\u001b[1;33m(\u001b[0m\u001b[0mkey\u001b[0m\u001b[1;33m,\u001b[0m \u001b[0maxis\u001b[0m\u001b[1;33m=\u001b[0m\u001b[0maxis\u001b[0m\u001b[1;33m)\u001b[0m\u001b[1;33m\u001b[0m\u001b[0m\n\u001b[0m\u001b[0;32m   1615\u001b[0m \u001b[1;33m\u001b[0m\u001b[0m\n\u001b[0;32m   1616\u001b[0m     \u001b[1;32mdef\u001b[0m \u001b[0m_convert_to_indexer\u001b[0m\u001b[1;33m(\u001b[0m\u001b[0mself\u001b[0m\u001b[1;33m,\u001b[0m \u001b[0mobj\u001b[0m\u001b[1;33m,\u001b[0m \u001b[0maxis\u001b[0m\u001b[1;33m=\u001b[0m\u001b[1;36m0\u001b[0m\u001b[1;33m,\u001b[0m \u001b[0mis_setter\u001b[0m\u001b[1;33m=\u001b[0m\u001b[0mFalse\u001b[0m\u001b[1;33m)\u001b[0m\u001b[1;33m:\u001b[0m\u001b[1;33m\u001b[0m\u001b[0m\n",
      "\u001b[1;32m/usr/local/lib/python2.7/dist-packages/pandas/core/indexing.pyc\u001b[0m in \u001b[0;36m_get_loc\u001b[1;34m(self, key, axis)\u001b[0m\n\u001b[0;32m     94\u001b[0m \u001b[1;33m\u001b[0m\u001b[0m\n\u001b[0;32m     95\u001b[0m     \u001b[1;32mdef\u001b[0m \u001b[0m_get_loc\u001b[0m\u001b[1;33m(\u001b[0m\u001b[0mself\u001b[0m\u001b[1;33m,\u001b[0m \u001b[0mkey\u001b[0m\u001b[1;33m,\u001b[0m \u001b[0maxis\u001b[0m\u001b[1;33m=\u001b[0m\u001b[1;36m0\u001b[0m\u001b[1;33m)\u001b[0m\u001b[1;33m:\u001b[0m\u001b[1;33m\u001b[0m\u001b[0m\n\u001b[1;32m---> 96\u001b[1;33m         \u001b[1;32mreturn\u001b[0m \u001b[0mself\u001b[0m\u001b[1;33m.\u001b[0m\u001b[0mobj\u001b[0m\u001b[1;33m.\u001b[0m\u001b[0m_ixs\u001b[0m\u001b[1;33m(\u001b[0m\u001b[0mkey\u001b[0m\u001b[1;33m,\u001b[0m \u001b[0maxis\u001b[0m\u001b[1;33m=\u001b[0m\u001b[0maxis\u001b[0m\u001b[1;33m)\u001b[0m\u001b[1;33m\u001b[0m\u001b[0m\n\u001b[0m\u001b[0;32m     97\u001b[0m \u001b[1;33m\u001b[0m\u001b[0m\n\u001b[0;32m     98\u001b[0m     \u001b[1;32mdef\u001b[0m \u001b[0m_slice\u001b[0m\u001b[1;33m(\u001b[0m\u001b[0mself\u001b[0m\u001b[1;33m,\u001b[0m \u001b[0mobj\u001b[0m\u001b[1;33m,\u001b[0m \u001b[0maxis\u001b[0m\u001b[1;33m=\u001b[0m\u001b[1;36m0\u001b[0m\u001b[1;33m,\u001b[0m \u001b[0mkind\u001b[0m\u001b[1;33m=\u001b[0m\u001b[0mNone\u001b[0m\u001b[1;33m)\u001b[0m\u001b[1;33m:\u001b[0m\u001b[1;33m\u001b[0m\u001b[0m\n",
      "\u001b[1;32m/usr/local/lib/python2.7/dist-packages/pandas/core/frame.pyc\u001b[0m in \u001b[0;36m_ixs\u001b[1;34m(self, i, axis)\u001b[0m\n\u001b[0;32m   1909\u001b[0m                 \u001b[1;32mif\u001b[0m \u001b[0misinstance\u001b[0m\u001b[1;33m(\u001b[0m\u001b[0mlabel\u001b[0m\u001b[1;33m,\u001b[0m \u001b[0mIndex\u001b[0m\u001b[1;33m)\u001b[0m\u001b[1;33m:\u001b[0m\u001b[1;33m\u001b[0m\u001b[0m\n\u001b[0;32m   1910\u001b[0m                     \u001b[1;31m# a location index by definition\u001b[0m\u001b[1;33m\u001b[0m\u001b[1;33m\u001b[0m\u001b[0m\n\u001b[1;32m-> 1911\u001b[1;33m                     \u001b[0mresult\u001b[0m \u001b[1;33m=\u001b[0m \u001b[0mself\u001b[0m\u001b[1;33m.\u001b[0m\u001b[0mtake\u001b[0m\u001b[1;33m(\u001b[0m\u001b[0mi\u001b[0m\u001b[1;33m,\u001b[0m \u001b[0maxis\u001b[0m\u001b[1;33m=\u001b[0m\u001b[0maxis\u001b[0m\u001b[1;33m)\u001b[0m\u001b[1;33m\u001b[0m\u001b[0m\n\u001b[0m\u001b[0;32m   1912\u001b[0m                     \u001b[0mcopy\u001b[0m \u001b[1;33m=\u001b[0m \u001b[0mTrue\u001b[0m\u001b[1;33m\u001b[0m\u001b[0m\n\u001b[0;32m   1913\u001b[0m                 \u001b[1;32melse\u001b[0m\u001b[1;33m:\u001b[0m\u001b[1;33m\u001b[0m\u001b[0m\n",
      "\u001b[1;32m/usr/local/lib/python2.7/dist-packages/pandas/core/generic.pyc\u001b[0m in \u001b[0;36mtake\u001b[1;34m(self, indices, axis, convert, is_copy, **kwargs)\u001b[0m\n\u001b[0;32m   1631\u001b[0m         new_data = self._data.take(indices,\n\u001b[0;32m   1632\u001b[0m                                    \u001b[0maxis\u001b[0m\u001b[1;33m=\u001b[0m\u001b[0mself\u001b[0m\u001b[1;33m.\u001b[0m\u001b[0m_get_block_manager_axis\u001b[0m\u001b[1;33m(\u001b[0m\u001b[0maxis\u001b[0m\u001b[1;33m)\u001b[0m\u001b[1;33m,\u001b[0m\u001b[1;33m\u001b[0m\u001b[0m\n\u001b[1;32m-> 1633\u001b[1;33m                                    convert=True, verify=True)\n\u001b[0m\u001b[0;32m   1634\u001b[0m         \u001b[0mresult\u001b[0m \u001b[1;33m=\u001b[0m \u001b[0mself\u001b[0m\u001b[1;33m.\u001b[0m\u001b[0m_constructor\u001b[0m\u001b[1;33m(\u001b[0m\u001b[0mnew_data\u001b[0m\u001b[1;33m)\u001b[0m\u001b[1;33m.\u001b[0m\u001b[0m__finalize__\u001b[0m\u001b[1;33m(\u001b[0m\u001b[0mself\u001b[0m\u001b[1;33m)\u001b[0m\u001b[1;33m\u001b[0m\u001b[0m\n\u001b[0;32m   1635\u001b[0m \u001b[1;33m\u001b[0m\u001b[0m\n",
      "\u001b[1;32m/usr/local/lib/python2.7/dist-packages/pandas/core/internals.pyc\u001b[0m in \u001b[0;36mtake\u001b[1;34m(self, indexer, axis, verify, convert)\u001b[0m\n\u001b[0;32m   3709\u001b[0m         \u001b[0mnew_labels\u001b[0m \u001b[1;33m=\u001b[0m \u001b[0mself\u001b[0m\u001b[1;33m.\u001b[0m\u001b[0maxes\u001b[0m\u001b[1;33m[\u001b[0m\u001b[0maxis\u001b[0m\u001b[1;33m]\u001b[0m\u001b[1;33m.\u001b[0m\u001b[0mtake\u001b[0m\u001b[1;33m(\u001b[0m\u001b[0mindexer\u001b[0m\u001b[1;33m)\u001b[0m\u001b[1;33m\u001b[0m\u001b[0m\n\u001b[0;32m   3710\u001b[0m         return self.reindex_indexer(new_axis=new_labels, indexer=indexer,\n\u001b[1;32m-> 3711\u001b[1;33m                                     axis=axis, allow_dups=True)\n\u001b[0m\u001b[0;32m   3712\u001b[0m \u001b[1;33m\u001b[0m\u001b[0m\n\u001b[0;32m   3713\u001b[0m     \u001b[1;32mdef\u001b[0m \u001b[0mmerge\u001b[0m\u001b[1;33m(\u001b[0m\u001b[0mself\u001b[0m\u001b[1;33m,\u001b[0m \u001b[0mother\u001b[0m\u001b[1;33m,\u001b[0m \u001b[0mlsuffix\u001b[0m\u001b[1;33m=\u001b[0m\u001b[1;34m''\u001b[0m\u001b[1;33m,\u001b[0m \u001b[0mrsuffix\u001b[0m\u001b[1;33m=\u001b[0m\u001b[1;34m''\u001b[0m\u001b[1;33m)\u001b[0m\u001b[1;33m:\u001b[0m\u001b[1;33m\u001b[0m\u001b[0m\n",
      "\u001b[1;32m/usr/local/lib/python2.7/dist-packages/pandas/core/internals.pyc\u001b[0m in \u001b[0;36mreindex_indexer\u001b[1;34m(self, new_axis, indexer, axis, fill_value, allow_dups, copy)\u001b[0m\n\u001b[0;32m   3595\u001b[0m             new_blocks = [blk.take_nd(indexer, axis=axis, fill_tuple=(\n\u001b[0;32m   3596\u001b[0m                 fill_value if fill_value is not None else blk.fill_value,))\n\u001b[1;32m-> 3597\u001b[1;33m                 for blk in self.blocks]\n\u001b[0m\u001b[0;32m   3598\u001b[0m \u001b[1;33m\u001b[0m\u001b[0m\n\u001b[0;32m   3599\u001b[0m         \u001b[0mnew_axes\u001b[0m \u001b[1;33m=\u001b[0m \u001b[0mlist\u001b[0m\u001b[1;33m(\u001b[0m\u001b[0mself\u001b[0m\u001b[1;33m.\u001b[0m\u001b[0maxes\u001b[0m\u001b[1;33m)\u001b[0m\u001b[1;33m\u001b[0m\u001b[0m\n",
      "\u001b[1;32m/usr/local/lib/python2.7/dist-packages/pandas/core/internals.pyc\u001b[0m in \u001b[0;36mtake_nd\u001b[1;34m(self, indexer, axis, new_mgr_locs, fill_tuple)\u001b[0m\n\u001b[0;32m    994\u001b[0m             \u001b[0mfill_value\u001b[0m \u001b[1;33m=\u001b[0m \u001b[0mfill_tuple\u001b[0m\u001b[1;33m[\u001b[0m\u001b[1;36m0\u001b[0m\u001b[1;33m]\u001b[0m\u001b[1;33m\u001b[0m\u001b[0m\n\u001b[0;32m    995\u001b[0m             new_values = algos.take_nd(values, indexer, axis=axis,\n\u001b[1;32m--> 996\u001b[1;33m                                        allow_fill=True, fill_value=fill_value)\n\u001b[0m\u001b[0;32m    997\u001b[0m \u001b[1;33m\u001b[0m\u001b[0m\n\u001b[0;32m    998\u001b[0m         \u001b[1;32mif\u001b[0m \u001b[0mnew_mgr_locs\u001b[0m \u001b[1;32mis\u001b[0m \u001b[0mNone\u001b[0m\u001b[1;33m:\u001b[0m\u001b[1;33m\u001b[0m\u001b[0m\n",
      "\u001b[1;32m/usr/local/lib/python2.7/dist-packages/pandas/core/algorithms.pyc\u001b[0m in \u001b[0;36mtake_nd\u001b[1;34m(arr, indexer, axis, out, fill_value, mask_info, allow_fill)\u001b[0m\n\u001b[0;32m    928\u001b[0m             \u001b[0mout\u001b[0m \u001b[1;33m=\u001b[0m \u001b[0mnp\u001b[0m\u001b[1;33m.\u001b[0m\u001b[0mempty\u001b[0m\u001b[1;33m(\u001b[0m\u001b[0mout_shape\u001b[0m\u001b[1;33m,\u001b[0m \u001b[0mdtype\u001b[0m\u001b[1;33m=\u001b[0m\u001b[0mdtype\u001b[0m\u001b[1;33m,\u001b[0m \u001b[0morder\u001b[0m\u001b[1;33m=\u001b[0m\u001b[1;34m'F'\u001b[0m\u001b[1;33m)\u001b[0m\u001b[1;33m\u001b[0m\u001b[0m\n\u001b[0;32m    929\u001b[0m         \u001b[1;32melse\u001b[0m\u001b[1;33m:\u001b[0m\u001b[1;33m\u001b[0m\u001b[0m\n\u001b[1;32m--> 930\u001b[1;33m             \u001b[0mout\u001b[0m \u001b[1;33m=\u001b[0m \u001b[0mnp\u001b[0m\u001b[1;33m.\u001b[0m\u001b[0mempty\u001b[0m\u001b[1;33m(\u001b[0m\u001b[0mout_shape\u001b[0m\u001b[1;33m,\u001b[0m \u001b[0mdtype\u001b[0m\u001b[1;33m=\u001b[0m\u001b[0mdtype\u001b[0m\u001b[1;33m)\u001b[0m\u001b[1;33m\u001b[0m\u001b[0m\n\u001b[0m\u001b[0;32m    931\u001b[0m \u001b[1;33m\u001b[0m\u001b[0m\n\u001b[0;32m    932\u001b[0m     func = _get_take_nd_function(arr.ndim, arr.dtype, out.dtype, axis=axis,\n",
      "\u001b[1;31mMemoryError\u001b[0m: "
     ]
    }
   ],
   "source": [
    "import random, time\n",
    "dfAll = pd.read_csv('data/train.csv')\n",
    "uniqRowID = dfAll.row_id.unique()\n",
    "print 'preProcess'\n",
    "timeStart = time.time()\n",
    "preProcess(dfAll)\n",
    "timeCurrent = time.time()\n",
    "trainThres = int(len(uniqRowID) * 0.7)\n",
    "dfTrain = dfAll.loc[lambda df: df.row_id <= trainThres, :]\n",
    "dfTest = dfAll.loc[lambda df: df.row_id > trainThres, :]\n",
    "print 'dfTrainCan'\n",
    "dfTrainCan = genCandidates(dfTrain)\n",
    "dfTrainCan = dfTrainCan.drop_duplicates()\n",
    "print 'dfTestCan'\n",
    "dfTestCan = genCandidates(dfTest)\n",
    "dfTestCan = dfTestCan.drop_duplicates()\n",
    "print 'genFeaAgg'\n",
    "genFeaAgg(dfTrain)\n",
    "print 'dfTrainAggFea'\n",
    "dfTrainAggFea = MergeAggFea(dfTrainCan)\n",
    "print 'dfTrainAggFea'\n",
    "dfTestAggFea = MergeAggFea(dfTestCan)\n",
    "timeCurrent = time.time()\n",
    "print \"%f s has passed\" % (timeCurrent - timeStart)"
   ]
  },
  {
   "cell_type": "code",
   "execution_count": 6,
   "metadata": {
    "collapsed": false
   },
   "outputs": [
    {
     "data": {
      "text/plain": [
       "RandomForestClassifier(bootstrap=True, class_weight=None, criterion='gini',\n",
       "            max_depth=None, max_features='auto', max_leaf_nodes=None,\n",
       "            min_samples_leaf=1, min_samples_split=2,\n",
       "            min_weight_fraction_leaf=0.1, n_estimators=100, n_jobs=1,\n",
       "            oob_score=False, random_state=None, verbose=0,\n",
       "            warm_start=False)"
      ]
     },
     "execution_count": 6,
     "metadata": {},
     "output_type": "execute_result"
    }
   ],
   "source": [
    "from sklearn.ensemble import RandomForestClassifier\n",
    "dfTrainAggFea = dfTrainAggFea.fillna(0)\n",
    "clf = RandomForestClassifier(n_estimators=100, min_weight_fraction_leaf=0.1)\n",
    "predictors = ['x', 'y', 'accuracy', 'time', 'xy100_placeId', 'xy1000_placeId', 'xy1000_placeId_timeH', 'xy100_placeId_timeH']\n",
    "#predictors = ['x', 'y', 'accuracy', 'time', 'xy100_placeId']\n",
    "clf.fit(dfTrainAggFea[predictors], dfTrainAggFea['label'])"
   ]
  },
  {
   "cell_type": "code",
   "execution_count": 7,
   "metadata": {
    "collapsed": false
   },
   "outputs": [
    {
     "name": "stdout",
     "output_type": "stream",
     "text": [
      "[[ 0.97904865  0.02095135]\n",
      " [ 0.9854385   0.0145615 ]\n",
      " [ 0.98960796  0.01039204]\n",
      " [ 0.9832609   0.0167391 ]\n",
      " [ 0.98122512  0.01877488]\n",
      " [ 0.98964386  0.01035614]\n",
      " [ 0.98556752  0.01443248]\n",
      " [ 0.98765308  0.01234692]\n",
      " [ 0.9897      0.0103    ]\n",
      " [ 0.99375383  0.00624617]]\n"
     ]
    }
   ],
   "source": [
    "dfTestAggFea = dfTestAggFea.fillna(0)\n",
    "lstScore = clf.predict_proba(dfTestAggFea[predictors])\n",
    "print lstScore[:10]"
   ]
  },
  {
   "cell_type": "code",
   "execution_count": 10,
   "metadata": {
    "collapsed": false
   },
   "outputs": [],
   "source": [
    "def genTopResult(df, lstScore, topK = 3):\n",
    "    lstRes = []\n",
    "    idx = -1\n",
    "    dictRowIdRes = {}\n",
    "    for _, row in df.iterrows():\n",
    "        idx += 1\n",
    "        rowId = row['row_id']\n",
    "        placIdCan = row['place_id_cand']\n",
    "        score = lstScore[idx][1]\n",
    "        dictRowIdRes.setdefault(rowId, [])\n",
    "        dictRowIdRes[rowId].append([placIdCan, score])\n",
    "    rowIdTestUnique = sorted(df.row_id.unique())\n",
    "    for rowId in rowIdTestUnique:\n",
    "        #print 'dictRowIdRes[rowId]', dictRowIdRes[rowId]\n",
    "        res = sorted(dictRowIdRes[rowId], key = lambda x: x[1], reverse = True)\n",
    "        #print 'res', res\n",
    "        lstRes.append([rowId, [x[0] for x in res[:topK]], res])\n",
    "    return lstRes\n",
    "\n",
    "def genLabel(df):\n",
    "    lstLabel = []\n",
    "    rowIdTestUnique = sorted(df.row_id.unique())\n",
    "    for rowId in rowIdTestUnique:\n",
    "        label = dfTest[dfTest.row_id == rowId].place_id.unique()[0]\n",
    "        lstLabel.append([label])\n",
    "    return lstLabel"
   ]
  },
  {
   "cell_type": "code",
   "execution_count": 11,
   "metadata": {
    "collapsed": false
   },
   "outputs": [],
   "source": [
    "lstRes0 = genTopResult(dfTestAggFea, lstScore)\n",
    "lstRes = [map(int, x[1]) for x in lstRes0]\n",
    "lstLabel = genLabel(dfTestAggFea)"
   ]
  },
  {
   "cell_type": "code",
   "execution_count": 12,
   "metadata": {
    "collapsed": false
   },
   "outputs": [
    {
     "data": {
      "text/plain": [
       "0.99621654055135167"
      ]
     },
     "execution_count": 12,
     "metadata": {},
     "output_type": "execute_result"
    }
   ],
   "source": [
    "import ml_metrics as metrics\n",
    "metrics.mapk(lstLabel, lstRes, k = 3)"
   ]
  },
  {
   "cell_type": "code",
   "execution_count": 14,
   "metadata": {
    "collapsed": false
   },
   "outputs": [
    {
     "name": "stdout",
     "output_type": "stream",
     "text": [
      "8\n",
      "8\n",
      "Feature ranking:\n",
      "1. xtr: 0.003726\n",
      "2. ytr: 0.001115\n",
      "3. accuracytr: 0.003453\n",
      "4. timetr: 0.001714\n",
      "5. xy100_placeIdtr: 0.159998\n",
      "6. xy1000_placeIdtr: 0.269998\n",
      "7. xy1000_placeId_timeHtr: 0.289998\n",
      "8. xy100_placeId_timeHtr: 0.269999\n"
     ]
    }
   ],
   "source": [
    "import numpy as np\n",
    "importances = clf.feature_importances_\n",
    "print len(importances)\n",
    "print len(predictors)\n",
    "\n",
    "\n",
    "indices = np.argsort(importances)[::-1]\n",
    "\n",
    "# Print the feature ranking\n",
    "print(\"Feature ranking:\")\n",
    "\n",
    "for f in range(len(predictors)):\n",
    "    print(\"%d. %str: %f\" % (f + 1, predictors[f], importances[f]))\n"
   ]
  },
  {
   "cell_type": "code",
   "execution_count": null,
   "metadata": {
    "collapsed": true
   },
   "outputs": [],
   "source": []
  }
 ],
 "metadata": {
  "kernelspec": {
   "display_name": "Python 2",
   "language": "python",
   "name": "python2"
  },
  "language_info": {
   "codemirror_mode": {
    "name": "ipython",
    "version": 2
   },
   "file_extension": ".py",
   "mimetype": "text/x-python",
   "name": "python",
   "nbconvert_exporter": "python",
   "pygments_lexer": "ipython2",
   "version": "2.7.6"
  }
 },
 "nbformat": 4,
 "nbformat_minor": 0
}
