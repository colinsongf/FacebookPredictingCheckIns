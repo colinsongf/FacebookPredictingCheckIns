{
 "cells": [
  {
   "cell_type": "code",
   "execution_count": 1,
   "metadata": {
    "collapsed": false
   },
   "outputs": [
    {
     "name": "stdout",
     "output_type": "stream",
     "text": [
      "Generated feature hour from time\n"
     ]
    }
   ],
   "source": [
    "# This Python 3 environment comes with many helpful analytics libraries installed\n",
    "# It is defined by the kaggle/python docker image: https://github.com/kaggle/docker-python\n",
    "# For example, here's several helpful packages to load in \n",
    "\n",
    "import numpy as np # linear algebra\n",
    "import pandas as pd # data processing, CSV file I/O (e.g. pd.read_csv)\n",
    "from sklearn.neighbors import KDTree\n",
    "#from sklearn.neighbors import KNeighborsClassifier\n",
    "\n",
    "# Input data files are available in the \"../input/\" directory.\n",
    "# For example, running this (by clicking run or pressing Shift+Enter) will list the files in the input directory\n",
    "\n",
    "#from subprocess import check_output\n",
    "#print(check_output([\"ls\", \"../input\"]).decode(\"utf8\"))\n",
    "\n",
    "train = pd.read_csv('data/train.csv')\n",
    "test = pd.read_csv('data/test.csv')\n",
    "\n",
    "\n",
    "############################\n",
    "#train_accuracy_min=train[['accuracy']].min()\n",
    "#train_accuracy_max=train[['accuracy']].max()\n",
    "#train[['accuracy']]=(train[['accuracy']]-train_accuracy_min)/(train_accuracy_max-train_accuracy_min)*10.0\n",
    "#test[['accuracy']]=(test[['accuracy']]-train_accuracy_min)/(train_accuracy_max-train_accuracy_min)*10.0\n",
    "############################\n",
    "#print (\"Normalized the accuracy feature\")\n",
    "\n",
    "\n",
    "# Taking the idea from that hour matters\n",
    "train[['time']]=(train[['time']]/60) % 24\n",
    "train[['time']]=train[['time']]/24*10\n",
    "test[['time']]=(test[['time']]/60) % 24\n",
    "test[['time']]=test[['time']]/24*10\n",
    "\n",
    "\n",
    "#Weighted y by factor 2\n",
    "train[['y']]=train[['y']]*2\n",
    "test[['y']]=test[['y']]*2\n",
    "#Weighted time by factor 0.5\n",
    "train[['time']]=train[['time']]/2\n",
    "test[['time']]=test[['time']]/2\n",
    "\n",
    "\n",
    "\n",
    "print (\"Generated feature hour from time\")\n",
    "\n",
    "tree = KDTree(train[['x', 'y','time']])\n",
    "_, ind = tree.query(test[['x','y','time']], k=1)\n",
    "ind1 = [x[0] for x in ind]\n",
    "test['place_id'] = train.iloc[ind1].place_id.values\n",
    "test[['row_id', 'place_id']].to_csv('submission_time.gz', index=False, compression='gzip')\n"
   ]
  },
  {
   "cell_type": "code",
   "execution_count": null,
   "metadata": {
    "collapsed": true
   },
   "outputs": [],
   "source": []
  }
 ],
 "metadata": {
  "kernelspec": {
   "display_name": "Python 2",
   "language": "python",
   "name": "python2"
  },
  "language_info": {
   "codemirror_mode": {
    "name": "ipython",
    "version": 2
   },
   "file_extension": ".py",
   "mimetype": "text/x-python",
   "name": "python",
   "nbconvert_exporter": "python",
   "pygments_lexer": "ipython2",
   "version": "2.7.6"
  }
 },
 "nbformat": 4,
 "nbformat_minor": 0
}
